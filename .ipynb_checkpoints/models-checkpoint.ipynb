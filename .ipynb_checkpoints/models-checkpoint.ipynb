{
 "cells": [
  {
   "cell_type": "raw",
   "id": "036b898c",
   "metadata": {},
   "source": [
    "from flask_sqlalchemy import SQLAlchemy\n",
    "db = SQLAlchemy()\n",
    "class Pet(db.Model):\n",
    "    id = db.Column(db.Integer, primary_key=True)\n",
    "    name = db.Column(db.String(100), nullable=False)\n",
    "    age = db.Column(db.Integer, nullable=False)\n",
    "    type = db.Column(db.String(100), nullable=False)"
   ]
  },
  {
   "cell_type": "code",
   "execution_count": null,
   "id": "5e7d2378",
   "metadata": {},
   "outputs": [],
   "source": []
  }
 ],
 "metadata": {
  "kernelspec": {
   "display_name": "Python 3 (ipykernel)",
   "language": "python",
   "name": "python3"
  },
  "language_info": {
   "codemirror_mode": {
    "name": "ipython",
    "version": 3
   },
   "file_extension": ".py",
   "mimetype": "text/x-python",
   "name": "python",
   "nbconvert_exporter": "python",
   "pygments_lexer": "ipython3",
   "version": "3.11.4"
  }
 },
 "nbformat": 4,
 "nbformat_minor": 5
}
