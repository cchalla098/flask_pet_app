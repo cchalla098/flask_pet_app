{
 "cells": [
  {
   "cell_type": "code",
   "execution_count": 4,
   "id": "a8ca28df",
   "metadata": {},
   "outputs": [
    {
     "ename": "SyntaxError",
     "evalue": "invalid syntax (models.py, line 3)",
     "output_type": "error",
     "traceback": [
      "Traceback \u001b[1;36m(most recent call last)\u001b[0m:\n",
      "\u001b[0m  File \u001b[0;32m~\\anaconda3\\Lib\\site-packages\\IPython\\core\\interactiveshell.py:3505\u001b[0m in \u001b[0;35mrun_code\u001b[0m\n    exec(code_obj, self.user_global_ns, self.user_ns)\u001b[0m\n",
      "\u001b[1;36m  Cell \u001b[1;32mIn[4], line 2\u001b[1;36m\n\u001b[1;33m    from models import db, Pet\u001b[1;36m\n",
      "\u001b[1;36m  File \u001b[1;32m~\\flask_pet_app\\models.py:3\u001b[1;36m\u001b[0m\n\u001b[1;33m    rom flask_sqlalchemy import SQLAlchemy\u001b[0m\n\u001b[1;37m        ^\u001b[0m\n\u001b[1;31mSyntaxError\u001b[0m\u001b[1;31m:\u001b[0m invalid syntax\n"
     ]
    }
   ],
   "source": [
    "from flask import Flask, render_template, redirect, url_for\n",
    "from models import db, Pet\n",
    "from forms import PetForm\n",
    "\n",
    "app = Flask(__name__)\n",
    "app.config['SQLALCHEMY_DATABASE_URI'] = 'sqlite:///pets.db'\n",
    "app.config['SECRET_KEY'] = 'your_secret_key'\n",
    "db.init_app(app)\n",
    "\n",
    "@app.route('/', methods=['GET', 'POST'])\n",
    "def index():\n",
    "    form = PetForm()\n",
    "    if form.validate_on_submit():\n",
    "\t    pet = Pet(name=form.name.data, age=form.age.data, type=form.type.data)\n",
    "\t    db.session.add(pet)\n",
    "\t    db.session.commit()\n",
    "\t    return redirect(url_for('index'))\n",
    "    pets = Pet.query.all()\n",
    "    return render_template('view_pets.html', form=form, pets=pets)\n",
    "if __name__ == '__main__':\n",
    "    app.run(debug=True)\n"
   ]
  },
  {
   "cell_type": "code",
   "execution_count": 1,
   "id": "103a769c",
   "metadata": {},
   "outputs": [
    {
     "ename": "SyntaxError",
     "evalue": "invalid syntax (models.py, line 3)",
     "output_type": "error",
     "traceback": [
      "Traceback \u001b[1;36m(most recent call last)\u001b[0m:\n",
      "\u001b[0m  File \u001b[0;32m~\\anaconda3\\Lib\\site-packages\\IPython\\core\\interactiveshell.py:3505\u001b[0m in \u001b[0;35mrun_code\u001b[0m\n    exec(code_obj, self.user_global_ns, self.user_ns)\u001b[0m\n",
      "\u001b[0m  Cell \u001b[0;32mIn[1], line 1\u001b[0m\n    from app import db\u001b[0m\n",
      "\u001b[1;36m  File \u001b[1;32m~\\flask_pet_app\\app.py:8\u001b[1;36m\n\u001b[1;33m    from models import db, Pet\u001b[1;36m\n",
      "\u001b[1;36m  File \u001b[1;32m~\\flask_pet_app\\models.py:3\u001b[1;36m\u001b[0m\n\u001b[1;33m    rom flask_sqlalchemy import SQLAlchemy\u001b[0m\n\u001b[1;37m        ^\u001b[0m\n\u001b[1;31mSyntaxError\u001b[0m\u001b[1;31m:\u001b[0m invalid syntax\n"
     ]
    }
   ],
   "source": [
    "from app import db\n",
    "db.create_all()\n"
   ]
  },
  {
   "cell_type": "code",
   "execution_count": null,
   "id": "6201471c",
   "metadata": {},
   "outputs": [],
   "source": []
  }
 ],
 "metadata": {
  "kernelspec": {
   "display_name": "Python 3 (ipykernel)",
   "language": "python",
   "name": "python3"
  },
  "language_info": {
   "codemirror_mode": {
    "name": "ipython",
    "version": 3
   },
   "file_extension": ".py",
   "mimetype": "text/x-python",
   "name": "python",
   "nbconvert_exporter": "python",
   "pygments_lexer": "ipython3",
   "version": "3.11.4"
  }
 },
 "nbformat": 4,
 "nbformat_minor": 5
}
